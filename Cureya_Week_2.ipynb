{
  "nbformat": 4,
  "nbformat_minor": 0,
  "metadata": {
    "colab": {
      "name": "Cureya Week-2.ipynb",
      "provenance": [],
      "collapsed_sections": [],
      "authorship_tag": "ABX9TyO3FqA8Y4p3Z42PfziczICN",
      "include_colab_link": true
    },
    "kernelspec": {
      "name": "python3",
      "display_name": "Python 3"
    },
    "language_info": {
      "name": "python"
    }
  },
  "cells": [
    {
      "cell_type": "markdown",
      "metadata": {
        "id": "view-in-github",
        "colab_type": "text"
      },
      "source": [
        "<a href=\"https://colab.research.google.com/github/RiaTopre/Cureya-Internship/blob/main/Cureya_Week_2.ipynb\" target=\"_parent\"><img src=\"https://colab.research.google.com/assets/colab-badge.svg\" alt=\"Open In Colab\"/></a>"
      ]
    },
    {
      "cell_type": "markdown",
      "metadata": {
        "id": "AXU7Q6fXua8h"
      },
      "source": [
        "#**Cureya Internship Week 2**\n",
        "\n",
        "> ### Task Name: Python Fundamentals & Libraries\n",
        "> #### ***Work by: Ria Topre***\n",
        "\n",
        "\n",
        "\n",
        "---\n",
        "\n",
        "\n",
        "\n",
        "---\n",
        "\n",
        "\n",
        "\n",
        "\n",
        "\n",
        "\n",
        "\n",
        "\n",
        "\n",
        "\n"
      ]
    },
    {
      "cell_type": "markdown",
      "metadata": {
        "id": "aOsaxujSuFf-"
      },
      "source": [
        "\n",
        ">### **Define : Dictionaries, lists, tuples, set with an example**\n",
        "\n",
        "---\n",
        "\n",
        "\n",
        "\n",
        "\n"
      ]
    },
    {
      "cell_type": "markdown",
      "metadata": {
        "id": "8Qi0t-TVDVam"
      },
      "source": [
        "###Dictionaries:\n",
        "> A Dictionary in Python is the unordered and changeable collection of data values that holds key-value pairs.\n",
        "\n",
        "\n"
      ]
    },
    {
      "cell_type": "code",
      "metadata": {
        "colab": {
          "base_uri": "https://localhost:8080/"
        },
        "id": "THGg9KLvDZ9_",
        "outputId": "3ddd90f2-6004-499d-a0f7-cbf28dd4cd5a"
      },
      "source": [
        "# Example to define a dictionary\n",
        "Dict = {'john': 18,'Heena':12,'fluffy':22,'Rey':25}   \n",
        "print (Dict)\n",
        "print(type(Dict))"
      ],
      "execution_count": null,
      "outputs": [
        {
          "output_type": "stream",
          "text": [
            "{'john': 18, 'Heena': 12, 'fluffy': 22, 'Rey': 25}\n",
            "<class 'dict'>\n"
          ],
          "name": "stdout"
        }
      ]
    },
    {
      "cell_type": "code",
      "metadata": {
        "colab": {
          "base_uri": "https://localhost:8080/"
        },
        "id": "biMC345PodTH",
        "outputId": "f392524b-abf6-423d-e57b-6b7bd791a985"
      },
      "source": [
        "Dict.keys()"
      ],
      "execution_count": null,
      "outputs": [
        {
          "output_type": "execute_result",
          "data": {
            "text/plain": [
              "dict_keys(['john', 'Heena', 'fluffy', 'Rey'])"
            ]
          },
          "metadata": {
            "tags": []
          },
          "execution_count": 2
        }
      ]
    },
    {
      "cell_type": "code",
      "metadata": {
        "colab": {
          "base_uri": "https://localhost:8080/"
        },
        "id": "DAe87FmCojL8",
        "outputId": "13065293-97a4-4d4e-ac70-6c223d2a0743"
      },
      "source": [
        "Dict.values()"
      ],
      "execution_count": null,
      "outputs": [
        {
          "output_type": "execute_result",
          "data": {
            "text/plain": [
              "dict_values([18, 12, 22, 25])"
            ]
          },
          "metadata": {
            "tags": []
          },
          "execution_count": 3
        }
      ]
    },
    {
      "cell_type": "markdown",
      "metadata": {
        "id": "ONp-MyhHEL6O"
      },
      "source": [
        "###Lists:\n",
        "\n",
        "\n",
        "> A list can be defined as a collection of values or items of different types. The items in the list are separated with the comma (,) and enclosed with the square brackets [ ].\n",
        "\n"
      ]
    },
    {
      "cell_type": "code",
      "metadata": {
        "colab": {
          "base_uri": "https://localhost:8080/"
        },
        "id": "M-YkM26tD96h",
        "outputId": "00e39050-dc93-4427-dd40-1aa5dcec3b72"
      },
      "source": [
        "#Example to define list\n",
        "Flowers = [\"Lily\", \"Rose\", \"Sunflower\", \"Jasmine\"]\n",
        "print(Flowers)\n",
        "print(type(Flowers))"
      ],
      "execution_count": null,
      "outputs": [
        {
          "output_type": "stream",
          "text": [
            "['Lily', 'Rose', 'Sunflower', 'Jasmine']\n",
            "<class 'list'>\n"
          ],
          "name": "stdout"
        }
      ]
    },
    {
      "cell_type": "code",
      "metadata": {
        "colab": {
          "base_uri": "https://localhost:8080/",
          "height": 35
        },
        "id": "QFUYqRKno_LZ",
        "outputId": "ff481f2b-2355-417b-8e37-91db86339f67"
      },
      "source": [
        "Flowers[2]"
      ],
      "execution_count": null,
      "outputs": [
        {
          "output_type": "execute_result",
          "data": {
            "application/vnd.google.colaboratory.intrinsic+json": {
              "type": "string"
            },
            "text/plain": [
              "'Sunflower'"
            ]
          },
          "metadata": {
            "tags": []
          },
          "execution_count": 5
        }
      ]
    },
    {
      "cell_type": "markdown",
      "metadata": {
        "id": "KIirDyQ1FUWL"
      },
      "source": [
        "###Tuples:\n",
        "> Python Tuple is used to store the sequence of immutable Python objects. The tuple is similar to lists since the value of the items stored in the list can be changed, whereas the tuple is immutable, and the value of the items stored in the tuple cannot be changed.\n",
        "\n",
        "\n",
        "\n"
      ]
    },
    {
      "cell_type": "code",
      "metadata": {
        "colab": {
          "base_uri": "https://localhost:8080/"
        },
        "id": "I2XSDeNpFRcX",
        "outputId": "deef95e1-1ad4-490f-e478-5a8242eebe9a"
      },
      "source": [
        "#Example to create a tuple\n",
        "T1 = (101, \"Peter\", 22)    \n",
        "T2 = (\"Apple\", \"Banana\", \"Orange\")     \n",
        "T3 = 10,20,30,40,50  \n",
        "print(T1)  \n",
        "print(type(T1))  \n",
        "print(T2)  \n",
        "print(type(T2))  \n",
        "print(T3)\n",
        "print(type(T3))  \n"
      ],
      "execution_count": null,
      "outputs": [
        {
          "output_type": "stream",
          "text": [
            "(101, 'Peter', 22)\n",
            "<class 'tuple'>\n",
            "('Apple', 'Banana', 'Orange')\n",
            "<class 'tuple'>\n",
            "(10, 20, 30, 40, 50)\n",
            "<class 'tuple'>\n"
          ],
          "name": "stdout"
        }
      ]
    },
    {
      "cell_type": "markdown",
      "metadata": {
        "id": "kpe8vv0HGqRe"
      },
      "source": [
        "###Sets:\n",
        "> A Python set is the collection of the unordered items. Each element in the set must be unique, immutable, and the sets remove the duplicate elements. Sets are mutable which means we can modify it after its creation.\n",
        "Unlike other collections in Python, there is no index attached to the elements of the set, i.e., we cannot directly access any element of the set by the index\n",
        "\n"
      ]
    },
    {
      "cell_type": "code",
      "metadata": {
        "colab": {
          "base_uri": "https://localhost:8080/"
        },
        "id": "1Q5ISXGCHBqK",
        "outputId": "c739516a-0829-4740-f527-711f1f369786"
      },
      "source": [
        "#Example of creating set\n",
        "Days = {\"Monday\", \"Tuesday\", \"Wednesday\", \"Thursday\", \"Friday\", \"Saturday\", \"Sunday\"}    \n",
        "print(Days)    \n",
        "print(type(Days))   "
      ],
      "execution_count": null,
      "outputs": [
        {
          "output_type": "stream",
          "text": [
            "{'Thursday', 'Wednesday', 'Sunday', 'Saturday', 'Tuesday', 'Friday', 'Monday'}\n",
            "<class 'set'>\n"
          ],
          "name": "stdout"
        }
      ]
    },
    {
      "cell_type": "markdown",
      "metadata": {
        "id": "p48kJnrLH4X1"
      },
      "source": [
        "\n",
        "\n",
        ">  ## **Read CSV file**\n",
        "\n",
        "\n",
        "---"
      ]
    },
    {
      "cell_type": "code",
      "metadata": {
        "colab": {
          "base_uri": "https://localhost:8080/",
          "height": 421
        },
        "id": "T6eOzT1Bp_XY",
        "outputId": "1b247a67-ce2c-4e84-a051-bb0a82873fab"
      },
      "source": [
        "import pandas as pd\n",
        "url = \"https://raw.githubusercontent.com/srijan-27/Cureya/main/company_sales_data.csv\"\n",
        "df = pd.read_csv(url)\n",
        "df"
      ],
      "execution_count": null,
      "outputs": [
        {
          "output_type": "execute_result",
          "data": {
            "text/html": [
              "<div>\n",
              "<style scoped>\n",
              "    .dataframe tbody tr th:only-of-type {\n",
              "        vertical-align: middle;\n",
              "    }\n",
              "\n",
              "    .dataframe tbody tr th {\n",
              "        vertical-align: top;\n",
              "    }\n",
              "\n",
              "    .dataframe thead th {\n",
              "        text-align: right;\n",
              "    }\n",
              "</style>\n",
              "<table border=\"1\" class=\"dataframe\">\n",
              "  <thead>\n",
              "    <tr style=\"text-align: right;\">\n",
              "      <th></th>\n",
              "      <th>month_number</th>\n",
              "      <th>facecream</th>\n",
              "      <th>facewash</th>\n",
              "      <th>toothpaste</th>\n",
              "      <th>bathingsoap</th>\n",
              "      <th>shampoo</th>\n",
              "      <th>moisturizer</th>\n",
              "      <th>total_units</th>\n",
              "      <th>total_profit</th>\n",
              "    </tr>\n",
              "  </thead>\n",
              "  <tbody>\n",
              "    <tr>\n",
              "      <th>0</th>\n",
              "      <td>1</td>\n",
              "      <td>2500</td>\n",
              "      <td>1500</td>\n",
              "      <td>5200</td>\n",
              "      <td>9200</td>\n",
              "      <td>1200</td>\n",
              "      <td>1500</td>\n",
              "      <td>21100</td>\n",
              "      <td>211000</td>\n",
              "    </tr>\n",
              "    <tr>\n",
              "      <th>1</th>\n",
              "      <td>2</td>\n",
              "      <td>2630</td>\n",
              "      <td>1200</td>\n",
              "      <td>5100</td>\n",
              "      <td>6100</td>\n",
              "      <td>2100</td>\n",
              "      <td>1200</td>\n",
              "      <td>18330</td>\n",
              "      <td>183300</td>\n",
              "    </tr>\n",
              "    <tr>\n",
              "      <th>2</th>\n",
              "      <td>3</td>\n",
              "      <td>2140</td>\n",
              "      <td>1340</td>\n",
              "      <td>4550</td>\n",
              "      <td>9550</td>\n",
              "      <td>3550</td>\n",
              "      <td>1340</td>\n",
              "      <td>22470</td>\n",
              "      <td>224700</td>\n",
              "    </tr>\n",
              "    <tr>\n",
              "      <th>3</th>\n",
              "      <td>4</td>\n",
              "      <td>3400</td>\n",
              "      <td>1130</td>\n",
              "      <td>5870</td>\n",
              "      <td>8870</td>\n",
              "      <td>1870</td>\n",
              "      <td>1130</td>\n",
              "      <td>22270</td>\n",
              "      <td>222700</td>\n",
              "    </tr>\n",
              "    <tr>\n",
              "      <th>4</th>\n",
              "      <td>5</td>\n",
              "      <td>3600</td>\n",
              "      <td>1740</td>\n",
              "      <td>4560</td>\n",
              "      <td>7760</td>\n",
              "      <td>1560</td>\n",
              "      <td>1740</td>\n",
              "      <td>20960</td>\n",
              "      <td>209600</td>\n",
              "    </tr>\n",
              "    <tr>\n",
              "      <th>5</th>\n",
              "      <td>6</td>\n",
              "      <td>2760</td>\n",
              "      <td>1555</td>\n",
              "      <td>4890</td>\n",
              "      <td>7490</td>\n",
              "      <td>1890</td>\n",
              "      <td>1555</td>\n",
              "      <td>20140</td>\n",
              "      <td>201400</td>\n",
              "    </tr>\n",
              "    <tr>\n",
              "      <th>6</th>\n",
              "      <td>7</td>\n",
              "      <td>2980</td>\n",
              "      <td>1120</td>\n",
              "      <td>4780</td>\n",
              "      <td>8980</td>\n",
              "      <td>1780</td>\n",
              "      <td>1120</td>\n",
              "      <td>29550</td>\n",
              "      <td>295500</td>\n",
              "    </tr>\n",
              "    <tr>\n",
              "      <th>7</th>\n",
              "      <td>8</td>\n",
              "      <td>3700</td>\n",
              "      <td>1400</td>\n",
              "      <td>5860</td>\n",
              "      <td>9960</td>\n",
              "      <td>2860</td>\n",
              "      <td>1400</td>\n",
              "      <td>36140</td>\n",
              "      <td>361400</td>\n",
              "    </tr>\n",
              "    <tr>\n",
              "      <th>8</th>\n",
              "      <td>9</td>\n",
              "      <td>3540</td>\n",
              "      <td>1780</td>\n",
              "      <td>6100</td>\n",
              "      <td>8100</td>\n",
              "      <td>2100</td>\n",
              "      <td>1780</td>\n",
              "      <td>23400</td>\n",
              "      <td>234000</td>\n",
              "    </tr>\n",
              "    <tr>\n",
              "      <th>9</th>\n",
              "      <td>10</td>\n",
              "      <td>1990</td>\n",
              "      <td>1890</td>\n",
              "      <td>8300</td>\n",
              "      <td>10300</td>\n",
              "      <td>2300</td>\n",
              "      <td>1890</td>\n",
              "      <td>26670</td>\n",
              "      <td>266700</td>\n",
              "    </tr>\n",
              "    <tr>\n",
              "      <th>10</th>\n",
              "      <td>11</td>\n",
              "      <td>2340</td>\n",
              "      <td>2100</td>\n",
              "      <td>7300</td>\n",
              "      <td>13300</td>\n",
              "      <td>2400</td>\n",
              "      <td>2100</td>\n",
              "      <td>41280</td>\n",
              "      <td>412800</td>\n",
              "    </tr>\n",
              "    <tr>\n",
              "      <th>11</th>\n",
              "      <td>12</td>\n",
              "      <td>2900</td>\n",
              "      <td>1760</td>\n",
              "      <td>7400</td>\n",
              "      <td>14400</td>\n",
              "      <td>1800</td>\n",
              "      <td>1760</td>\n",
              "      <td>30020</td>\n",
              "      <td>300200</td>\n",
              "    </tr>\n",
              "  </tbody>\n",
              "</table>\n",
              "</div>"
            ],
            "text/plain": [
              "    month_number  facecream  facewash  ...  moisturizer  total_units  total_profit\n",
              "0              1       2500      1500  ...         1500        21100        211000\n",
              "1              2       2630      1200  ...         1200        18330        183300\n",
              "2              3       2140      1340  ...         1340        22470        224700\n",
              "3              4       3400      1130  ...         1130        22270        222700\n",
              "4              5       3600      1740  ...         1740        20960        209600\n",
              "5              6       2760      1555  ...         1555        20140        201400\n",
              "6              7       2980      1120  ...         1120        29550        295500\n",
              "7              8       3700      1400  ...         1400        36140        361400\n",
              "8              9       3540      1780  ...         1780        23400        234000\n",
              "9             10       1990      1890  ...         1890        26670        266700\n",
              "10            11       2340      2100  ...         2100        41280        412800\n",
              "11            12       2900      1760  ...         1760        30020        300200\n",
              "\n",
              "[12 rows x 9 columns]"
            ]
          },
          "metadata": {
            "tags": []
          },
          "execution_count": 8
        }
      ]
    },
    {
      "cell_type": "markdown",
      "metadata": {
        "id": "ZzjZXbTELvXQ"
      },
      "source": [
        "# **Numpy**\n",
        "\n",
        "---\n"
      ]
    },
    {
      "cell_type": "code",
      "metadata": {
        "id": "_H6nuFP3H1rf"
      },
      "source": [
        "import numpy as np"
      ],
      "execution_count": null,
      "outputs": []
    },
    {
      "cell_type": "code",
      "metadata": {
        "colab": {
          "base_uri": "https://localhost:8080/"
        },
        "id": "B3p2px6lMjuq",
        "outputId": "60c0001e-8160-4794-f300-7be5401434ac"
      },
      "source": [
        "# Q-1) Create an array of 10 fives.\n",
        "print(\"required array is\",np.full(10,5)) "
      ],
      "execution_count": null,
      "outputs": [
        {
          "output_type": "stream",
          "text": [
            "required array is [5 5 5 5 5 5 5 5 5 5]\n"
          ],
          "name": "stdout"
        }
      ]
    },
    {
      "cell_type": "code",
      "metadata": {
        "colab": {
          "base_uri": "https://localhost:8080/"
        },
        "id": "y-WHdIX0M4QS",
        "outputId": "2838558f-0919-41dc-ac83-713dbd09f67f"
      },
      "source": [
        "# Q-2) Create an array of all even integers between 10 to 50.\n",
        "print(\"Even integers between 10 to 50 are\",np.arange(10,51,2))\n"
      ],
      "execution_count": null,
      "outputs": [
        {
          "output_type": "stream",
          "text": [
            "Even integers between 10 to 50 are [10 12 14 16 18 20 22 24 26 28 30 32 34 36 38 40 42 44 46 48 50]\n"
          ],
          "name": "stdout"
        }
      ]
    },
    {
      "cell_type": "code",
      "metadata": {
        "colab": {
          "base_uri": "https://localhost:8080/"
        },
        "id": "gqggbuGwNS-A",
        "outputId": "e00b43e4-de06-4aea-b55a-8a75a1dbb440"
      },
      "source": [
        "# Q-3) Create a 4 x 4 matrix\n",
        "print(\"Required Matrix is:\")\n",
        "print(np.arange(0,16).reshape(4,4))"
      ],
      "execution_count": null,
      "outputs": [
        {
          "output_type": "stream",
          "text": [
            "Required Matrix is:\n",
            "[[ 0  1  2  3]\n",
            " [ 4  5  6  7]\n",
            " [ 8  9 10 11]\n",
            " [12 13 14 15]]\n"
          ],
          "name": "stdout"
        }
      ]
    },
    {
      "cell_type": "code",
      "metadata": {
        "colab": {
          "base_uri": "https://localhost:8080/"
        },
        "id": "XZGBPkjEOunb",
        "outputId": "ff07df08-91b6-4d71-98a6-ed683a9ac887"
      },
      "source": [
        "# Q-4) Use numpy to generate an array of 25 random numbers sampled from a standard normal distribution.\n",
        "print(\"25 random numbers sampled from a standard normal distribution:\")\n",
        "print(np.random.randn(25))"
      ],
      "execution_count": null,
      "outputs": [
        {
          "output_type": "stream",
          "text": [
            "25 random numbers sampled from a standard normal distribution:\n",
            "[-0.21922797  0.01706265 -2.75176872 -1.18980693  0.88258687 -0.80866071\n",
            "  0.06042415  0.27366127  0.97831244  1.45971193  0.98662221 -0.37478191\n",
            " -0.43566783  1.18491141  0.07662503  0.44784744  0.80256509 -0.14729195\n",
            " -0.14122746  1.21938295 -0.63394108 -0.77919065  0.65914844  2.06684807\n",
            " -0.88900296]\n"
          ],
          "name": "stdout"
        }
      ]
    },
    {
      "cell_type": "code",
      "metadata": {
        "colab": {
          "base_uri": "https://localhost:8080/"
        },
        "id": "LN2kVBmUO95Z",
        "outputId": "125d1b0a-5e12-42fc-fae9-11308cdc6f22"
      },
      "source": [
        "# Q-5) (a)matrix : ([[ 1 2 3 4 5 ] Output the given matrix using numpy. [ 6 7 8 9 10] [11 12 13 14 15] [16 17 18 19 20] [ 21 22 23 24 25]])\n",
        "mat_a = np.arange(1,26).reshape(5,5)\n",
        "mat_a"
      ],
      "execution_count": null,
      "outputs": [
        {
          "output_type": "execute_result",
          "data": {
            "text/plain": [
              "array([[ 1,  2,  3,  4,  5],\n",
              "       [ 6,  7,  8,  9, 10],\n",
              "       [11, 12, 13, 14, 15],\n",
              "       [16, 17, 18, 19, 20],\n",
              "       [21, 22, 23, 24, 25]])"
            ]
          },
          "metadata": {
            "tags": []
          },
          "execution_count": 14
        }
      ]
    },
    {
      "cell_type": "code",
      "metadata": {
        "colab": {
          "base_uri": "https://localhost:8080/"
        },
        "id": "7XjeG4nqPqVA",
        "outputId": "b02ca501-e12c-4be0-f77e-e4b5660cbb82"
      },
      "source": [
        "# (b) by referring the above matrix output given matrix : ([[ 12 13 14 15] 17 18 19 20] 22 23 24 25 ]])\n",
        "\n",
        "mat_a[2: ,1:]"
      ],
      "execution_count": null,
      "outputs": [
        {
          "output_type": "execute_result",
          "data": {
            "text/plain": [
              "array([[12, 13, 14, 15],\n",
              "       [17, 18, 19, 20],\n",
              "       [22, 23, 24, 25]])"
            ]
          },
          "metadata": {
            "tags": []
          },
          "execution_count": 15
        }
      ]
    },
    {
      "cell_type": "code",
      "metadata": {
        "id": "3HqKz6pLP_eM",
        "colab": {
          "base_uri": "https://localhost:8080/"
        },
        "outputId": "78290613-c487-462a-b3d4-99b8178015bc"
      },
      "source": [
        "# ( c ) Grab number ‘20’ from the matrix.\n",
        "mat_a[3][4]"
      ],
      "execution_count": null,
      "outputs": [
        {
          "output_type": "execute_result",
          "data": {
            "text/plain": [
              "20"
            ]
          },
          "metadata": {
            "tags": []
          },
          "execution_count": 16
        }
      ]
    },
    {
      "cell_type": "code",
      "metadata": {
        "colab": {
          "base_uri": "https://localhost:8080/"
        },
        "id": "UgoDNBuSslhM",
        "outputId": "9b48c576-dc98-4039-9d64-e8304b6b7227"
      },
      "source": [
        "#(d) Output this array ([[ 2 ][ 7 ][12 ]])\n",
        "mat_a[0:3,1].reshape(3,1)"
      ],
      "execution_count": null,
      "outputs": [
        {
          "output_type": "execute_result",
          "data": {
            "text/plain": [
              "array([[ 2],\n",
              "       [ 7],\n",
              "       [12]])"
            ]
          },
          "metadata": {
            "tags": []
          },
          "execution_count": 17
        }
      ]
    },
    {
      "cell_type": "code",
      "metadata": {
        "colab": {
          "base_uri": "https://localhost:8080/"
        },
        "id": "IEaLZSBlszsG",
        "outputId": "44fc03fc-9015-4684-d7e1-dbc2a1f44f91"
      },
      "source": [
        "#(e) Get the standard derivation of the values in the matrix.\n",
        "np.std(mat_a)"
      ],
      "execution_count": null,
      "outputs": [
        {
          "output_type": "execute_result",
          "data": {
            "text/plain": [
              "7.211102550927978"
            ]
          },
          "metadata": {
            "tags": []
          },
          "execution_count": 18
        }
      ]
    },
    {
      "cell_type": "code",
      "metadata": {
        "colab": {
          "base_uri": "https://localhost:8080/"
        },
        "id": "XWe_ekyas_hI",
        "outputId": "01d7943a-367a-45c1-8984-6511a32b9ea2"
      },
      "source": [
        "#(f) Get the sum of all columns in the matrix.\n",
        "mat_a.sum(axis=0)"
      ],
      "execution_count": null,
      "outputs": [
        {
          "output_type": "execute_result",
          "data": {
            "text/plain": [
              "array([55, 60, 65, 70, 75])"
            ]
          },
          "metadata": {
            "tags": []
          },
          "execution_count": 19
        }
      ]
    },
    {
      "cell_type": "markdown",
      "metadata": {
        "id": "mXJlUTQDtU64"
      },
      "source": [
        "#**Pandas**\n",
        "\n",
        "---\n"
      ]
    },
    {
      "cell_type": "code",
      "metadata": {
        "colab": {
          "base_uri": "https://localhost:8080/"
        },
        "id": "M_eka1uotKFL",
        "outputId": "6bf8fc82-76f5-42e8-f1a1-b417fc6e1f78"
      },
      "source": [
        "# Q-1) Import pandas and check the version\n",
        "print(pd.__version__)"
      ],
      "execution_count": null,
      "outputs": [
        {
          "output_type": "stream",
          "text": [
            "1.1.5\n"
          ],
          "name": "stdout"
        }
      ]
    },
    {
      "cell_type": "code",
      "metadata": {
        "colab": {
          "base_uri": "https://localhost:8080/"
        },
        "id": "IKS02GLPt1n6",
        "outputId": "81fd2b08-4ea0-4c54-cfd2-d95ee8b0619a"
      },
      "source": [
        "# Q-2) Create a series from a list, numpy array and dict\n",
        "mylist = list('abcedfghijklmnopqrstuvwxyz')\n",
        "myarr = np.arange(26)\n",
        "mydict = dict(zip(mylist, myarr))\n",
        "\n",
        "series_list = pd.Series(mylist)\n",
        "print(series_list.head())\n",
        "\n",
        "series_array = pd.Series(myarr)\n",
        "print(series_array.head())\n",
        "\n",
        "series_dict = pd.Series(mydict)\n",
        "print(series_dict.head())"
      ],
      "execution_count": null,
      "outputs": [
        {
          "output_type": "stream",
          "text": [
            "0    a\n",
            "1    b\n",
            "2    c\n",
            "3    e\n",
            "4    d\n",
            "dtype: object\n",
            "0    0\n",
            "1    1\n",
            "2    2\n",
            "3    3\n",
            "4    4\n",
            "dtype: int64\n",
            "a    0\n",
            "b    1\n",
            "c    2\n",
            "e    3\n",
            "d    4\n",
            "dtype: int64\n"
          ],
          "name": "stdout"
        }
      ]
    },
    {
      "cell_type": "code",
      "metadata": {
        "colab": {
          "base_uri": "https://localhost:8080/"
        },
        "id": "oi7_iBiyuiTv",
        "outputId": "2677ffd9-b8db-46bf-a258-ebcf0cab1711"
      },
      "source": [
        "# Q-3) Combine many series to form a dataframe\n",
        "ser1 = pd.Series(list('abcedfghijklmnopqrstuvwxyz'))\n",
        "ser2 = pd.Series(np.arange(26))\n",
        "\n",
        "combine=pd.concat([ser1, ser2])\n",
        "print(combine.head(5))\n",
        "\n",
        "DataFrame = pd.DataFrame({'column:1': ser1, 'column:2': ser2})\n",
        "print(DataFrame.head(10))"
      ],
      "execution_count": null,
      "outputs": [
        {
          "output_type": "stream",
          "text": [
            "0    a\n",
            "1    b\n",
            "2    c\n",
            "3    e\n",
            "4    d\n",
            "dtype: object\n",
            "  column:1  column:2\n",
            "0        a         0\n",
            "1        b         1\n",
            "2        c         2\n",
            "3        e         3\n",
            "4        d         4\n",
            "5        f         5\n",
            "6        g         6\n",
            "7        h         7\n",
            "8        i         8\n",
            "9        j         9\n"
          ],
          "name": "stdout"
        }
      ]
    },
    {
      "cell_type": "code",
      "metadata": {
        "colab": {
          "base_uri": "https://localhost:8080/"
        },
        "id": "-GlSrE5Vu6be",
        "outputId": "365f30ff-00ad-4d59-b43e-f4929b2cf1ea"
      },
      "source": [
        "# get the items not common to both series A and series B\n",
        "ser1 = pd.Series([1, 2, 3, 4, 5])\n",
        "ser2 = pd.Series([4, 5, 6, 7, 8])\n",
        "ser_u = pd.Series(np.union1d(ser1, ser2))  # union\n",
        "ser_i = pd.Series(np.intersect1d(ser1, ser2))  # intersect\n",
        "ser_u[~ser_u.isin(ser_i)]"
      ],
      "execution_count": null,
      "outputs": [
        {
          "output_type": "execute_result",
          "data": {
            "text/plain": [
              "0    1\n",
              "1    2\n",
              "2    3\n",
              "5    6\n",
              "6    7\n",
              "7    8\n",
              "dtype: int64"
            ]
          },
          "metadata": {
            "tags": []
          },
          "execution_count": 23
        }
      ]
    },
    {
      "cell_type": "code",
      "metadata": {
        "id": "YAFvjJM7xA1G",
        "colab": {
          "base_uri": "https://localhost:8080/"
        },
        "outputId": "fa2b9cee-fee2-4102-cde6-5089ab53c43a"
      },
      "source": [
        "# Q-4) Get frequency counts of unique items of a series\n",
        "ser = pd.Series(np.take(list('abcdefgh'), np.random.randint(8, size=30)))\n",
        "ser.value_counts()\n"
      ],
      "execution_count": null,
      "outputs": [
        {
          "output_type": "execute_result",
          "data": {
            "text/plain": [
              "d    7\n",
              "a    5\n",
              "g    5\n",
              "c    4\n",
              "e    4\n",
              "h    3\n",
              "f    1\n",
              "b    1\n",
              "dtype: int64"
            ]
          },
          "metadata": {
            "tags": []
          },
          "execution_count": 24
        }
      ]
    },
    {
      "cell_type": "code",
      "metadata": {
        "id": "itqtzutVZvKN",
        "colab": {
          "base_uri": "https://localhost:8080/"
        },
        "outputId": "03410aad-df35-4525-ab4a-2082ac2d9813"
      },
      "source": [
        "# Q-5) Stack two series vertically and horizontally\n",
        "ser1 = pd.Series(range(5))\n",
        "ser2 = pd.Series(list('abcde'))\n",
        "# Vertical\n",
        "v_stack = ser1.append(ser2)\n",
        "print(v_stack)\n",
        "# Horizontal\n",
        "h_stack = pd.concat([ser1, ser2], axis=1)\n",
        "print(h_stack)"
      ],
      "execution_count": null,
      "outputs": [
        {
          "output_type": "stream",
          "text": [
            "0    0\n",
            "1    1\n",
            "2    2\n",
            "3    3\n",
            "4    4\n",
            "0    a\n",
            "1    b\n",
            "2    c\n",
            "3    d\n",
            "4    e\n",
            "dtype: object\n",
            "   0  1\n",
            "0  0  a\n",
            "1  1  b\n",
            "2  2  c\n",
            "3  3  d\n",
            "4  4  e\n"
          ],
          "name": "stdout"
        }
      ]
    },
    {
      "cell_type": "code",
      "metadata": {
        "colab": {
          "base_uri": "https://localhost:8080/"
        },
        "id": "s755nk25hEH4",
        "outputId": "ca8b5ecb-3e08-46f0-adcc-77a061f3c94b"
      },
      "source": [
        "# Q-6) Convert a series of date-strings to a timeseries\n",
        "ser = pd.Series(['01 Jan 2010', '02-02-2011', '20120303', '2013/04/04', '2014-05-05','2015-06-06T12:20'])\n",
        "pd.to_datetime(ser)\n"
      ],
      "execution_count": null,
      "outputs": [
        {
          "output_type": "execute_result",
          "data": {
            "text/plain": [
              "0   2010-01-01 00:00:00\n",
              "1   2011-02-02 00:00:00\n",
              "2   2012-03-03 00:00:00\n",
              "3   2013-04-04 00:00:00\n",
              "4   2014-05-05 00:00:00\n",
              "5   2015-06-06 12:20:00\n",
              "dtype: datetime64[ns]"
            ]
          },
          "metadata": {
            "tags": []
          },
          "execution_count": 26
        }
      ]
    },
    {
      "cell_type": "code",
      "metadata": {
        "colab": {
          "base_uri": "https://localhost:8080/"
        },
        "id": "dnzzpyzOjSh6",
        "outputId": "35696ff0-a661-4a29-d32c-7fd8719ba715"
      },
      "source": [
        "# Q-7) Compute the euclidean distance between two series\n",
        "p = pd.Series([1, 2, 3, 4, 5, 6, 7, 8, 9, 10])\n",
        "q = pd.Series([10, 9, 8, 7, 6, 5, 4, 3, 2, 1])\n",
        "np.linalg.norm(p-q)"
      ],
      "execution_count": null,
      "outputs": [
        {
          "output_type": "execute_result",
          "data": {
            "text/plain": [
              "18.16590212458495"
            ]
          },
          "metadata": {
            "tags": []
          },
          "execution_count": 27
        }
      ]
    },
    {
      "cell_type": "code",
      "metadata": {
        "colab": {
          "base_uri": "https://localhost:8080/",
          "height": 421
        },
        "id": "MA8KzaTzj2fJ",
        "outputId": "6b0bd64c-cbb2-4205-d4b9-59bcc8a48e33"
      },
      "source": [
        "# Q-8) Import only specific columns from a csv file(first and second)\n",
        "df1 = pd.read_csv(url, usecols=[\"facewash\",\t\"shampoo\"])\n",
        "df1"
      ],
      "execution_count": null,
      "outputs": [
        {
          "output_type": "execute_result",
          "data": {
            "text/html": [
              "<div>\n",
              "<style scoped>\n",
              "    .dataframe tbody tr th:only-of-type {\n",
              "        vertical-align: middle;\n",
              "    }\n",
              "\n",
              "    .dataframe tbody tr th {\n",
              "        vertical-align: top;\n",
              "    }\n",
              "\n",
              "    .dataframe thead th {\n",
              "        text-align: right;\n",
              "    }\n",
              "</style>\n",
              "<table border=\"1\" class=\"dataframe\">\n",
              "  <thead>\n",
              "    <tr style=\"text-align: right;\">\n",
              "      <th></th>\n",
              "      <th>facewash</th>\n",
              "      <th>shampoo</th>\n",
              "    </tr>\n",
              "  </thead>\n",
              "  <tbody>\n",
              "    <tr>\n",
              "      <th>0</th>\n",
              "      <td>1500</td>\n",
              "      <td>1200</td>\n",
              "    </tr>\n",
              "    <tr>\n",
              "      <th>1</th>\n",
              "      <td>1200</td>\n",
              "      <td>2100</td>\n",
              "    </tr>\n",
              "    <tr>\n",
              "      <th>2</th>\n",
              "      <td>1340</td>\n",
              "      <td>3550</td>\n",
              "    </tr>\n",
              "    <tr>\n",
              "      <th>3</th>\n",
              "      <td>1130</td>\n",
              "      <td>1870</td>\n",
              "    </tr>\n",
              "    <tr>\n",
              "      <th>4</th>\n",
              "      <td>1740</td>\n",
              "      <td>1560</td>\n",
              "    </tr>\n",
              "    <tr>\n",
              "      <th>5</th>\n",
              "      <td>1555</td>\n",
              "      <td>1890</td>\n",
              "    </tr>\n",
              "    <tr>\n",
              "      <th>6</th>\n",
              "      <td>1120</td>\n",
              "      <td>1780</td>\n",
              "    </tr>\n",
              "    <tr>\n",
              "      <th>7</th>\n",
              "      <td>1400</td>\n",
              "      <td>2860</td>\n",
              "    </tr>\n",
              "    <tr>\n",
              "      <th>8</th>\n",
              "      <td>1780</td>\n",
              "      <td>2100</td>\n",
              "    </tr>\n",
              "    <tr>\n",
              "      <th>9</th>\n",
              "      <td>1890</td>\n",
              "      <td>2300</td>\n",
              "    </tr>\n",
              "    <tr>\n",
              "      <th>10</th>\n",
              "      <td>2100</td>\n",
              "      <td>2400</td>\n",
              "    </tr>\n",
              "    <tr>\n",
              "      <th>11</th>\n",
              "      <td>1760</td>\n",
              "      <td>1800</td>\n",
              "    </tr>\n",
              "  </tbody>\n",
              "</table>\n",
              "</div>"
            ],
            "text/plain": [
              "    facewash  shampoo\n",
              "0       1500     1200\n",
              "1       1200     2100\n",
              "2       1340     3550\n",
              "3       1130     1870\n",
              "4       1740     1560\n",
              "5       1555     1890\n",
              "6       1120     1780\n",
              "7       1400     2860\n",
              "8       1780     2100\n",
              "9       1890     2300\n",
              "10      2100     2400\n",
              "11      1760     1800"
            ]
          },
          "metadata": {
            "tags": []
          },
          "execution_count": 28
        }
      ]
    },
    {
      "cell_type": "code",
      "metadata": {
        "colab": {
          "base_uri": "https://localhost:8080/",
          "height": 359
        },
        "id": "D0uoqmw3kfVY",
        "outputId": "7c72a426-539d-454b-9c77-3f5ef1828ef1"
      },
      "source": [
        "# Q-9) Use iloc(2 columns and 10 rows(any))\n",
        "df2 = df.iloc[0:10, 2:4]\n",
        "df2"
      ],
      "execution_count": null,
      "outputs": [
        {
          "output_type": "execute_result",
          "data": {
            "text/html": [
              "<div>\n",
              "<style scoped>\n",
              "    .dataframe tbody tr th:only-of-type {\n",
              "        vertical-align: middle;\n",
              "    }\n",
              "\n",
              "    .dataframe tbody tr th {\n",
              "        vertical-align: top;\n",
              "    }\n",
              "\n",
              "    .dataframe thead th {\n",
              "        text-align: right;\n",
              "    }\n",
              "</style>\n",
              "<table border=\"1\" class=\"dataframe\">\n",
              "  <thead>\n",
              "    <tr style=\"text-align: right;\">\n",
              "      <th></th>\n",
              "      <th>facewash</th>\n",
              "      <th>toothpaste</th>\n",
              "    </tr>\n",
              "  </thead>\n",
              "  <tbody>\n",
              "    <tr>\n",
              "      <th>0</th>\n",
              "      <td>1500</td>\n",
              "      <td>5200</td>\n",
              "    </tr>\n",
              "    <tr>\n",
              "      <th>1</th>\n",
              "      <td>1200</td>\n",
              "      <td>5100</td>\n",
              "    </tr>\n",
              "    <tr>\n",
              "      <th>2</th>\n",
              "      <td>1340</td>\n",
              "      <td>4550</td>\n",
              "    </tr>\n",
              "    <tr>\n",
              "      <th>3</th>\n",
              "      <td>1130</td>\n",
              "      <td>5870</td>\n",
              "    </tr>\n",
              "    <tr>\n",
              "      <th>4</th>\n",
              "      <td>1740</td>\n",
              "      <td>4560</td>\n",
              "    </tr>\n",
              "    <tr>\n",
              "      <th>5</th>\n",
              "      <td>1555</td>\n",
              "      <td>4890</td>\n",
              "    </tr>\n",
              "    <tr>\n",
              "      <th>6</th>\n",
              "      <td>1120</td>\n",
              "      <td>4780</td>\n",
              "    </tr>\n",
              "    <tr>\n",
              "      <th>7</th>\n",
              "      <td>1400</td>\n",
              "      <td>5860</td>\n",
              "    </tr>\n",
              "    <tr>\n",
              "      <th>8</th>\n",
              "      <td>1780</td>\n",
              "      <td>6100</td>\n",
              "    </tr>\n",
              "    <tr>\n",
              "      <th>9</th>\n",
              "      <td>1890</td>\n",
              "      <td>8300</td>\n",
              "    </tr>\n",
              "  </tbody>\n",
              "</table>\n",
              "</div>"
            ],
            "text/plain": [
              "   facewash  toothpaste\n",
              "0      1500        5200\n",
              "1      1200        5100\n",
              "2      1340        4550\n",
              "3      1130        5870\n",
              "4      1740        4560\n",
              "5      1555        4890\n",
              "6      1120        4780\n",
              "7      1400        5860\n",
              "8      1780        6100\n",
              "9      1890        8300"
            ]
          },
          "metadata": {
            "tags": []
          },
          "execution_count": 29
        }
      ]
    },
    {
      "cell_type": "code",
      "metadata": {
        "colab": {
          "base_uri": "https://localhost:8080/"
        },
        "id": "pUanYKlBlJCR",
        "outputId": "3cbba66a-2891-422f-cf48-68778a09e7ce"
      },
      "source": [
        "# Q-10) Find out the unique values in each column.\n",
        "for col in df:\n",
        "    print(df[col].unique())"
      ],
      "execution_count": null,
      "outputs": [
        {
          "output_type": "stream",
          "text": [
            "[ 1  2  3  4  5  6  7  8  9 10 11 12]\n",
            "[2500 2630 2140 3400 3600 2760 2980 3700 3540 1990 2340 2900]\n",
            "[1500 1200 1340 1130 1740 1555 1120 1400 1780 1890 2100 1760]\n",
            "[5200 5100 4550 5870 4560 4890 4780 5860 6100 8300 7300 7400]\n",
            "[ 9200  6100  9550  8870  7760  7490  8980  9960  8100 10300 13300 14400]\n",
            "[1200 2100 3550 1870 1560 1890 1780 2860 2300 2400 1800]\n",
            "[1500 1200 1340 1130 1740 1555 1120 1400 1780 1890 2100 1760]\n",
            "[21100 18330 22470 22270 20960 20140 29550 36140 23400 26670 41280 30020]\n",
            "[211000 183300 224700 222700 209600 201400 295500 361400 234000 266700\n",
            " 412800 300200]\n"
          ],
          "name": "stdout"
        }
      ]
    },
    {
      "cell_type": "markdown",
      "metadata": {
        "id": "PRj6tR8hlaNg"
      },
      "source": [
        "#**Check null values**\n",
        "\n",
        "---\n",
        "\n"
      ]
    },
    {
      "cell_type": "code",
      "metadata": {
        "colab": {
          "base_uri": "https://localhost:8080/"
        },
        "id": "EvMY-b_OlSg2",
        "outputId": "0e6dc686-63cc-48c1-c9d2-0fad6b1a8673"
      },
      "source": [
        "df.isnull().values.any()"
      ],
      "execution_count": null,
      "outputs": [
        {
          "output_type": "execute_result",
          "data": {
            "text/plain": [
              "False"
            ]
          },
          "metadata": {
            "tags": []
          },
          "execution_count": 31
        }
      ]
    },
    {
      "cell_type": "markdown",
      "metadata": {
        "id": "c2XuYnPWl8Ci"
      },
      "source": [
        "#**Read and print the first and last five rows of the dataframe.**\n",
        "\n",
        "---\n"
      ]
    },
    {
      "cell_type": "code",
      "metadata": {
        "colab": {
          "base_uri": "https://localhost:8080/",
          "height": 204
        },
        "id": "qRlT1lFZmC1U",
        "outputId": "75945447-eac5-46f1-9235-adff4b76d68d"
      },
      "source": [
        "df.head()"
      ],
      "execution_count": null,
      "outputs": [
        {
          "output_type": "execute_result",
          "data": {
            "text/html": [
              "<div>\n",
              "<style scoped>\n",
              "    .dataframe tbody tr th:only-of-type {\n",
              "        vertical-align: middle;\n",
              "    }\n",
              "\n",
              "    .dataframe tbody tr th {\n",
              "        vertical-align: top;\n",
              "    }\n",
              "\n",
              "    .dataframe thead th {\n",
              "        text-align: right;\n",
              "    }\n",
              "</style>\n",
              "<table border=\"1\" class=\"dataframe\">\n",
              "  <thead>\n",
              "    <tr style=\"text-align: right;\">\n",
              "      <th></th>\n",
              "      <th>month_number</th>\n",
              "      <th>facecream</th>\n",
              "      <th>facewash</th>\n",
              "      <th>toothpaste</th>\n",
              "      <th>bathingsoap</th>\n",
              "      <th>shampoo</th>\n",
              "      <th>moisturizer</th>\n",
              "      <th>total_units</th>\n",
              "      <th>total_profit</th>\n",
              "    </tr>\n",
              "  </thead>\n",
              "  <tbody>\n",
              "    <tr>\n",
              "      <th>0</th>\n",
              "      <td>1</td>\n",
              "      <td>2500</td>\n",
              "      <td>1500</td>\n",
              "      <td>5200</td>\n",
              "      <td>9200</td>\n",
              "      <td>1200</td>\n",
              "      <td>1500</td>\n",
              "      <td>21100</td>\n",
              "      <td>211000</td>\n",
              "    </tr>\n",
              "    <tr>\n",
              "      <th>1</th>\n",
              "      <td>2</td>\n",
              "      <td>2630</td>\n",
              "      <td>1200</td>\n",
              "      <td>5100</td>\n",
              "      <td>6100</td>\n",
              "      <td>2100</td>\n",
              "      <td>1200</td>\n",
              "      <td>18330</td>\n",
              "      <td>183300</td>\n",
              "    </tr>\n",
              "    <tr>\n",
              "      <th>2</th>\n",
              "      <td>3</td>\n",
              "      <td>2140</td>\n",
              "      <td>1340</td>\n",
              "      <td>4550</td>\n",
              "      <td>9550</td>\n",
              "      <td>3550</td>\n",
              "      <td>1340</td>\n",
              "      <td>22470</td>\n",
              "      <td>224700</td>\n",
              "    </tr>\n",
              "    <tr>\n",
              "      <th>3</th>\n",
              "      <td>4</td>\n",
              "      <td>3400</td>\n",
              "      <td>1130</td>\n",
              "      <td>5870</td>\n",
              "      <td>8870</td>\n",
              "      <td>1870</td>\n",
              "      <td>1130</td>\n",
              "      <td>22270</td>\n",
              "      <td>222700</td>\n",
              "    </tr>\n",
              "    <tr>\n",
              "      <th>4</th>\n",
              "      <td>5</td>\n",
              "      <td>3600</td>\n",
              "      <td>1740</td>\n",
              "      <td>4560</td>\n",
              "      <td>7760</td>\n",
              "      <td>1560</td>\n",
              "      <td>1740</td>\n",
              "      <td>20960</td>\n",
              "      <td>209600</td>\n",
              "    </tr>\n",
              "  </tbody>\n",
              "</table>\n",
              "</div>"
            ],
            "text/plain": [
              "   month_number  facecream  facewash  ...  moisturizer  total_units  total_profit\n",
              "0             1       2500      1500  ...         1500        21100        211000\n",
              "1             2       2630      1200  ...         1200        18330        183300\n",
              "2             3       2140      1340  ...         1340        22470        224700\n",
              "3             4       3400      1130  ...         1130        22270        222700\n",
              "4             5       3600      1740  ...         1740        20960        209600\n",
              "\n",
              "[5 rows x 9 columns]"
            ]
          },
          "metadata": {
            "tags": []
          },
          "execution_count": 32
        }
      ]
    },
    {
      "cell_type": "code",
      "metadata": {
        "colab": {
          "base_uri": "https://localhost:8080/",
          "height": 204
        },
        "id": "DGng2xxhmhan",
        "outputId": "bc57f9b3-e5a6-42fb-d3d6-3f0e1ead10e2"
      },
      "source": [
        "df.tail()"
      ],
      "execution_count": null,
      "outputs": [
        {
          "output_type": "execute_result",
          "data": {
            "text/html": [
              "<div>\n",
              "<style scoped>\n",
              "    .dataframe tbody tr th:only-of-type {\n",
              "        vertical-align: middle;\n",
              "    }\n",
              "\n",
              "    .dataframe tbody tr th {\n",
              "        vertical-align: top;\n",
              "    }\n",
              "\n",
              "    .dataframe thead th {\n",
              "        text-align: right;\n",
              "    }\n",
              "</style>\n",
              "<table border=\"1\" class=\"dataframe\">\n",
              "  <thead>\n",
              "    <tr style=\"text-align: right;\">\n",
              "      <th></th>\n",
              "      <th>month_number</th>\n",
              "      <th>facecream</th>\n",
              "      <th>facewash</th>\n",
              "      <th>toothpaste</th>\n",
              "      <th>bathingsoap</th>\n",
              "      <th>shampoo</th>\n",
              "      <th>moisturizer</th>\n",
              "      <th>total_units</th>\n",
              "      <th>total_profit</th>\n",
              "    </tr>\n",
              "  </thead>\n",
              "  <tbody>\n",
              "    <tr>\n",
              "      <th>7</th>\n",
              "      <td>8</td>\n",
              "      <td>3700</td>\n",
              "      <td>1400</td>\n",
              "      <td>5860</td>\n",
              "      <td>9960</td>\n",
              "      <td>2860</td>\n",
              "      <td>1400</td>\n",
              "      <td>36140</td>\n",
              "      <td>361400</td>\n",
              "    </tr>\n",
              "    <tr>\n",
              "      <th>8</th>\n",
              "      <td>9</td>\n",
              "      <td>3540</td>\n",
              "      <td>1780</td>\n",
              "      <td>6100</td>\n",
              "      <td>8100</td>\n",
              "      <td>2100</td>\n",
              "      <td>1780</td>\n",
              "      <td>23400</td>\n",
              "      <td>234000</td>\n",
              "    </tr>\n",
              "    <tr>\n",
              "      <th>9</th>\n",
              "      <td>10</td>\n",
              "      <td>1990</td>\n",
              "      <td>1890</td>\n",
              "      <td>8300</td>\n",
              "      <td>10300</td>\n",
              "      <td>2300</td>\n",
              "      <td>1890</td>\n",
              "      <td>26670</td>\n",
              "      <td>266700</td>\n",
              "    </tr>\n",
              "    <tr>\n",
              "      <th>10</th>\n",
              "      <td>11</td>\n",
              "      <td>2340</td>\n",
              "      <td>2100</td>\n",
              "      <td>7300</td>\n",
              "      <td>13300</td>\n",
              "      <td>2400</td>\n",
              "      <td>2100</td>\n",
              "      <td>41280</td>\n",
              "      <td>412800</td>\n",
              "    </tr>\n",
              "    <tr>\n",
              "      <th>11</th>\n",
              "      <td>12</td>\n",
              "      <td>2900</td>\n",
              "      <td>1760</td>\n",
              "      <td>7400</td>\n",
              "      <td>14400</td>\n",
              "      <td>1800</td>\n",
              "      <td>1760</td>\n",
              "      <td>30020</td>\n",
              "      <td>300200</td>\n",
              "    </tr>\n",
              "  </tbody>\n",
              "</table>\n",
              "</div>"
            ],
            "text/plain": [
              "    month_number  facecream  facewash  ...  moisturizer  total_units  total_profit\n",
              "7              8       3700      1400  ...         1400        36140        361400\n",
              "8              9       3540      1780  ...         1780        23400        234000\n",
              "9             10       1990      1890  ...         1890        26670        266700\n",
              "10            11       2340      2100  ...         2100        41280        412800\n",
              "11            12       2900      1760  ...         1760        30020        300200\n",
              "\n",
              "[5 rows x 9 columns]"
            ]
          },
          "metadata": {
            "tags": []
          },
          "execution_count": 33
        }
      ]
    },
    {
      "cell_type": "markdown",
      "metadata": {
        "id": "XPGgwhOGmrlA"
      },
      "source": [
        "##**Seaborn**\n",
        "\n",
        "---\n",
        "\n",
        "\n",
        "\n",
        "\n"
      ]
    },
    {
      "cell_type": "code",
      "metadata": {
        "colab": {
          "base_uri": "https://localhost:8080/",
          "height": 458
        },
        "id": "ZEWcHjOfmk_W",
        "outputId": "7a32dc4d-5659-4f0b-831e-b81a94574d82"
      },
      "source": [
        "# Q-1) Plot Jointplot and visualise the data.\n",
        "import seaborn as sns\n",
        "sns.jointplot(data=df, x=\"month_number\", y=\"total_profit\")\n"
      ],
      "execution_count": null,
      "outputs": [
        {
          "output_type": "execute_result",
          "data": {
            "text/plain": [
              "<seaborn.axisgrid.JointGrid at 0x7f062102ff90>"
            ]
          },
          "metadata": {
            "tags": []
          },
          "execution_count": 34
        },
        {
          "output_type": "display_data",
          "data": {
            "image/png": "[encoded data removed]",
            "text/plain": [
              "<Figure size 432x432 with 3 Axes>"
            ]
          },
          "metadata": {
            "tags": [],
            "needs_background": "light"
          }
        }
      ]
    },
    {
      "cell_type": "code",
      "metadata": {
        "colab": {
          "base_uri": "https://localhost:8080/",
          "height": 369
        },
        "id": "GzHRMYJCnxON",
        "outputId": "3d012426-0a28-4ac6-f4c8-e65a9e39d33a"
      },
      "source": [
        "# Q-2) Plot Distplot , make kde to false and make bins to 30\n",
        "q2= sns.displot(df, bins=30, kde=False, palette=\"YlGnBu_r\")"
      ],
      "execution_count": null,
      "outputs": [
        {
          "output_type": "display_data",
          "data": {
            "image/png": "[encoded data removed]",
            "text/plain": [
              "<Figure size 472.125x360 with 1 Axes>"
            ]
          },
          "metadata": {
            "tags": [],
            "needs_background": "light"
          }
        }
      ]
    },
    {
      "cell_type": "code",
      "metadata": {
        "colab": {
          "base_uri": "https://localhost:8080/",
          "height": 297
        },
        "id": "3HlFIMsEoNqG",
        "outputId": "4462652e-6b50-4a2b-fdf1-ea460a18752f"
      },
      "source": [
        "# Q-3) Plot Scatterplot , try adding hue in it.\n",
        "sns.scatterplot(x=\"month_number\", y=\"total_units\", hue=\"total_units\", data=df,palette=\"autumn_r\" )"
      ],
      "execution_count": null,
      "outputs": [
        {
          "output_type": "execute_result",
          "data": {
            "text/plain": [
              "<matplotlib.axes._subplots.AxesSubplot at 0x7f06176feed0>"
            ]
          },
          "metadata": {
            "tags": []
          },
          "execution_count": 36
        },
        {
          "output_type": "display_data",
          "data": {
            "image/png": "[encoded data removed]",
            "text/plain": [
              "<Figure size 432x288 with 1 Axes>"
            ]
          },
          "metadata": {
            "tags": [],
            "needs_background": "light"
          }
        }
      ]
    },
    {
      "cell_type": "code",
      "metadata": {
        "colab": {
          "base_uri": "https://localhost:8080/",
          "height": 297
        },
        "id": "hA5uKIZ2pY5d",
        "outputId": "e8bd7931-059a-4686-e9de-2e1eb82b618b"
      },
      "source": [
        "# Q-4) Plot swarmplot and change color palette to ‘VIBGYOR’.\n",
        "sns.set_palette(\"gist_rainbow\")\n",
        "sns.swarmplot(x=\"month_number\", y=\"total_units\", data=df)"
      ],
      "execution_count": null,
      "outputs": [
        {
          "output_type": "execute_result",
          "data": {
            "text/plain": [
              "<matplotlib.axes._subplots.AxesSubplot at 0x7f0617694150>"
            ]
          },
          "metadata": {
            "tags": []
          },
          "execution_count": 37
        },
        {
          "output_type": "display_data",
          "data": {
            "image/png": "[encoded data removed]",
            "text/plain": [
              "<Figure size 432x288 with 1 Axes>"
            ]
          },
          "metadata": {
            "tags": [],
            "needs_background": "light"
          }
        }
      ]
    },
    {
      "cell_type": "code",
      "metadata": {
        "colab": {
          "base_uri": "https://localhost:8080/",
          "height": 297
        },
        "id": "QZKpXIz3qpoO",
        "outputId": "8cabd20f-c57a-4508-c335-0cc3d449d3f1"
      },
      "source": [
        "# Q-5) Plot countplot and use hue parameter in it.\n",
        "sns.countplot(x=\"month_number\", hue=\"facewash\", data=df, palette=\"hot_r\")"
      ],
      "execution_count": null,
      "outputs": [
        {
          "output_type": "execute_result",
          "data": {
            "text/plain": [
              "<matplotlib.axes._subplots.AxesSubplot at 0x7f06176289d0>"
            ]
          },
          "metadata": {
            "tags": []
          },
          "execution_count": 38
        },
        {
          "output_type": "display_data",
          "data": {
            "image/png": "[encoded data removed]",
            "text/plain": [
              "<Figure size 432x288 with 1 Axes>"
            ]
          },
          "metadata": {
            "tags": [],
            "needs_background": "light"
          }
        }
      ]
    },
    {
      "cell_type": "code",
      "metadata": {
        "colab": {
          "base_uri": "https://localhost:8080/"
        },
        "id": "9iOc4BItrHJR",
        "outputId": "c3706986-7f41-4432-8b4a-7bfd1971fd06"
      },
      "source": [
        "# Q-6) Correlate the data and plot Heatmap on it and change its color scale to any you like.\n",
        "print(df.corr())"
      ],
      "execution_count": null,
      "outputs": [
        {
          "output_type": "stream",
          "text": [
            "              month_number  facecream  ...  total_units  total_profit\n",
            "month_number      1.000000   0.042267  ...     0.709335      0.709335\n",
            "facecream         0.042267   1.000000  ...    -0.006310     -0.006310\n",
            "facewash          0.660922  -0.211348  ...     0.412600      0.412600\n",
            "toothpaste        0.763190  -0.284831  ...     0.534979      0.534979\n",
            "bathingsoap       0.705964  -0.243513  ...     0.745280      0.745280\n",
            "shampoo           0.112043  -0.243586  ...     0.297472      0.297472\n",
            "moisturizer       0.660922  -0.211348  ...     0.412600      0.412600\n",
            "total_units       0.709335  -0.006310  ...     1.000000      1.000000\n",
            "total_profit      0.709335  -0.006310  ...     1.000000      1.000000\n",
            "\n",
            "[9 rows x 9 columns]\n"
          ],
          "name": "stdout"
        }
      ]
    },
    {
      "cell_type": "code",
      "metadata": {
        "colab": {
          "base_uri": "https://localhost:8080/",
          "height": 352
        },
        "id": "aRDhF5IErbBk",
        "outputId": "75a6dd46-7bb6-4aac-e882-7a64c2a09032"
      },
      "source": [
        "sns.heatmap(data=df.corr(), cmap=\"RdGy\")"
      ],
      "execution_count": null,
      "outputs": [
        {
          "output_type": "execute_result",
          "data": {
            "text/plain": [
              "<matplotlib.axes._subplots.AxesSubplot at 0x7f06173dfa10>"
            ]
          },
          "metadata": {
            "tags": []
          },
          "execution_count": 40
        },
        {
          "output_type": "display_data",
          "data": {
            "image/png": "[encoded data removed]",
            "text/plain": [
              "<Figure size 432x288 with 2 Axes>"
            ]
          },
          "metadata": {
            "tags": [],
            "needs_background": "light"
          }
        }
      ]
    },
    {
      "cell_type": "code",
      "metadata": {
        "colab": {
          "base_uri": "https://localhost:8080/",
          "height": 259
        },
        "id": "fKH4EC1XrjOY",
        "outputId": "3f7ddc3b-b1c4-494a-9f67-8bcbd12ea820"
      },
      "source": [
        "# Q-7) Plot a facetgrid and use hue in it. (Tricky one)\n",
        "g = sns.FacetGrid(df,hue=\"total_profit\", palette=\"Set1_r\")\n",
        "g.map_dataframe(sns.scatterplot, x=\"month_number\", y=\"total_profit\")\n",
        "g.set_axis_labels(\"Month Number\", \"Total Profit\")\n",
        "g.add_legend()\n"
      ],
      "execution_count": null,
      "outputs": [
        {
          "output_type": "execute_result",
          "data": {
            "text/plain": [
              "<seaborn.axisgrid.FacetGrid at 0x7f06172e69d0>"
            ]
          },
          "metadata": {
            "tags": []
          },
          "execution_count": 41
        },
        {
          "output_type": "display_data",
          "data": {
            "image/png": "[encoded data removed]",
            "text/plain": [
              "<Figure size 290x216 with 1 Axes>"
            ]
          },
          "metadata": {
            "tags": [],
            "needs_background": "light"
          }
        }
      ]
    },
    {
      "cell_type": "code",
      "metadata": {
        "colab": {
          "base_uri": "https://localhost:8080/",
          "height": 1000
        },
        "id": "_k-ZuoqptLUq",
        "outputId": "96d76a0a-a3fc-479f-94ef-3f35bb0a8256"
      },
      "source": [
        "# Q-8) Plot a pairplot.\n",
        "\n",
        "sns.pairplot(df)"
      ],
      "execution_count": null,
      "outputs": [
        {
          "output_type": "execute_result",
          "data": {
            "text/plain": [
              "<seaborn.axisgrid.PairGrid at 0x7f06171b4590>"
            ]
          },
          "metadata": {
            "tags": []
          },
          "execution_count": 42
        },
        {
          "output_type": "display_data",
          "data": {
            "image/png": "[encoded data removed]",
            "text/plain": [
              "<Figure size 1620x1620 with 90 Axes>"
            ]
          },
          "metadata": {
            "tags": [],
            "needs_background": "light"
          }
        }
      ]
    },
    {
      "cell_type": "markdown",
      "metadata": {
        "id": "-TlvRj2ZvNcA"
      },
      "source": [
        "#**Matplotlib**\n",
        "\n",
        "---\n",
        "\n",
        "\n"
      ]
    },
    {
      "cell_type": "code",
      "metadata": {
        "id": "b0ra0JXzvRQ3"
      },
      "source": [
        "import matplotlib.pyplot as plt"
      ],
      "execution_count": null,
      "outputs": []
    },
    {
      "cell_type": "code",
      "metadata": {
        "colab": {
          "base_uri": "https://localhost:8080/",
          "height": 312
        },
        "id": "ajb4-92VwAWR",
        "outputId": "cb8bd733-3fe9-4d1b-c259-16ac7a42fda0"
      },
      "source": [
        "# Q-1) Show the relationship between Total profit and no. of month using Line Plot.\n",
        "profit = df[\"total_profit\"].tolist()\n",
        "month = df[\"month_number\"].tolist()\n",
        "plt.plot(month, profit)\n",
        "plt.xlabel(\"Month number\")\n",
        "plt.ylabel(\"Total Profit\")\n",
        "plt.title('Company profit per month')\n",
        "plt.legend([\"Profit line\"])"
      ],
      "execution_count": null,
      "outputs": [
        {
          "output_type": "execute_result",
          "data": {
            "text/plain": [
              "<matplotlib.legend.Legend at 0x7f06152a9390>"
            ]
          },
          "metadata": {
            "tags": []
          },
          "execution_count": 44
        },
        {
          "output_type": "display_data",
          "data": {
            "image/png": "[encoded data removed]",
            "text/plain": [
              "<Figure size 432x288 with 1 Axes>"
            ]
          },
          "metadata": {
            "tags": [],
            "needs_background": "light"
          }
        }
      ]
    },
    {
      "cell_type": "code",
      "metadata": {
        "colab": {
          "base_uri": "https://localhost:8080/",
          "height": 295
        },
        "id": "zN8FLDfjwjtD",
        "outputId": "c5fdaf42-75ad-41f7-cb70-4417c89bbe0d"
      },
      "source": [
        "# Q-2) Read all product sales data and show it using a multi line plot. \n",
        "#Display the number of units sold per month for each product using multi line plots. (i.e., Separate Plotline for each product ).\n",
        "facecream  = df ['facecream'].tolist()\n",
        "facewash  = df ['facewash'].tolist()\n",
        "toothpaste = df ['toothpaste'].tolist()\n",
        "bathingsoap  = df ['bathingsoap'].tolist()\n",
        "shampoo  = df ['shampoo'].tolist()\n",
        "moisturizer = df ['moisturizer'].tolist()\n",
        "\n",
        "plt.plot(month, facecream,   label = 'Face cream Sales Data', marker='o', linewidth=3)\n",
        "plt.plot(month, facewash,   label = 'Face Wash Sales Data',  marker='o', linewidth=3)\n",
        "plt.plot(month, toothpaste, label = 'ToothPaste Sales Data', marker='o', linewidth=3)\n",
        "plt.plot(month, bathingsoap, label = 'ToothPaste Sales Data', marker='o', linewidth=3)\n",
        "plt.plot(month, shampoo, label = 'ToothPaste Sales Data', marker='o', linewidth=3)\n",
        "plt.plot(month, moisturizer, label = 'ToothPaste Sales Data', marker='o', linewidth=3)\n",
        "\n",
        "plt.xlabel('Month Number')\n",
        "plt.ylabel('Sales units in number')\n",
        "plt.legend(loc='upper left')\n",
        "plt.xticks(month)\n",
        "plt.yticks([1000, 2000, 4000, 6000, 8000, 10000, 12000, 15000, 18000])\n",
        "plt.title('Sales data')\n",
        "plt.show()"
      ],
      "execution_count": null,
      "outputs": [
        {
          "output_type": "display_data",
          "data": {
            "image/png": "[encoded data removed]",
            "text/plain": [
              "<Figure size 432x288 with 1 Axes>"
            ]
          },
          "metadata": {
            "tags": [],
            "needs_background": "light"
          }
        }
      ]
    },
    {
      "cell_type": "code",
      "metadata": {
        "colab": {
          "base_uri": "https://localhost:8080/",
          "height": 516
        },
        "id": "my7xU5ThxYLN",
        "outputId": "e25f5557-2a3d-41a8-ef25-0e037c526481"
      },
      "source": [
        "# Q-3) Plot a scatter plot between no. of month and toothpaste units sold.\n",
        "toothpaste = df ['toothpaste'].tolist()\n",
        "plt.scatter(month, toothpaste, label = 'Tooth paste Sales data')\n",
        "plt.xlabel('Month Number')\n",
        "plt.ylabel('Number of units Sold')\n",
        "plt.legend(loc='upper left')\n",
        "plt.title(' Tooth paste Sales data')\n",
        "plt.xticks(month)\n"
      ],
      "execution_count": null,
      "outputs": [
        {
          "output_type": "execute_result",
          "data": {
            "text/plain": [
              "([<matplotlib.axis.XTick at 0x7f06139bca10>,\n",
              "  <matplotlib.axis.XTick at 0x7f06139bca90>,\n",
              "  <matplotlib.axis.XTick at 0x7f06139bc650>,\n",
              "  <matplotlib.axis.XTick at 0x7f061399d810>,\n",
              "  <matplotlib.axis.XTick at 0x7f061399dd90>,\n",
              "  <matplotlib.axis.XTick at 0x7f061399d690>,\n",
              "  <matplotlib.axis.XTick at 0x7f06139a5510>,\n",
              "  <matplotlib.axis.XTick at 0x7f06139a5a50>,\n",
              "  <matplotlib.axis.XTick at 0x7f06139a5910>,\n",
              "  <matplotlib.axis.XTick at 0x7f061392e510>,\n",
              "  <matplotlib.axis.XTick at 0x7f061392ea10>,\n",
              "  <matplotlib.axis.XTick at 0x7f061392e850>],\n",
              " <a list of 12 Text major ticklabel objects>)"
            ]
          },
          "metadata": {
            "tags": []
          },
          "execution_count": 46
        },
        {
          "output_type": "display_data",
          "data": {
            "image/png": "[encoded data removed]",
            "text/plain": [
              "<Figure size 432x288 with 1 Axes>"
            ]
          },
          "metadata": {
            "tags": [],
            "needs_background": "light"
          }
        }
      ]
    },
    {
      "cell_type": "code",
      "metadata": {
        "colab": {
          "base_uri": "https://localhost:8080/",
          "height": 295
        },
        "id": "o7w6HlGAyXqW",
        "outputId": "f8fbe90f-5975-433a-e8f7-4a7a08f8b3a9"
      },
      "source": [
        "# Q-4) Add a gridline to the scatter plot.\n",
        "toothpaste = df ['toothpaste'].tolist()\n",
        "plt.scatter(month, toothpaste, label = 'Tooth paste Sales data')\n",
        "plt.xlabel('Month Number')\n",
        "plt.ylabel('Number of units Sold')\n",
        "plt.legend(loc='upper left')\n",
        "plt.title(' Tooth paste Sales data')\n",
        "plt.xticks(month)\n",
        "plt.grid(True, linewidth= 1, linestyle=\"--\")\n",
        "plt.show()"
      ],
      "execution_count": null,
      "outputs": [
        {
          "output_type": "display_data",
          "data": {
            "image/png": "[encoded data removed]",
            "text/plain": [
              "<Figure size 432x288 with 1 Axes>"
            ]
          },
          "metadata": {
            "tags": [],
            "needs_background": "light"
          }
        }
      ]
    },
    {
      "cell_type": "code",
      "metadata": {
        "colab": {
          "base_uri": "https://localhost:8080/",
          "height": 312
        },
        "id": "8GQp-WJ5zsib",
        "outputId": "67f00386-dd8e-4e75-8656-8c44e22c7f2a"
      },
      "source": [
        "# Q-5) Plot a bar chart which displays the number of units sold per month for face cream and face wash. Add a separate bar for each product in the same chart.\n",
        "#(with grid lines)\n",
        "plt.bar([a-0.25 for a in month], facecream, width= 0.25, label='Face Cream sales data', align='edge')\n",
        "plt.bar([a+0.25 for a in month], facewash, width= -0.25, label='Face Wash sales data', align='edge')\n",
        "plt.xlabel('Month Number')\n",
        "plt.ylabel('Sales units in number')\n",
        "plt.legend(loc='upper left')\n",
        "plt.title(' Sales data')\n",
        "\n",
        "plt.xticks(month)\n",
        "plt.grid(True, linewidth= 1, linestyle=\"--\")\n",
        "plt.title('Facewash and facecream sales data')"
      ],
      "execution_count": null,
      "outputs": [
        {
          "output_type": "execute_result",
          "data": {
            "text/plain": [
              "Text(0.5, 1.0, 'Facewash and facecream sales data')"
            ]
          },
          "metadata": {
            "tags": []
          },
          "execution_count": 48
        },
        {
          "output_type": "display_data",
          "data": {
            "image/png": "[encoded data removed]",
            "text/plain": [
              "<Figure size 432x288 with 1 Axes>"
            ]
          },
          "metadata": {
            "tags": [],
            "needs_background": "light"
          }
        }
      ]
    },
    {
      "cell_type": "code",
      "metadata": {
        "colab": {
          "base_uri": "https://localhost:8080/",
          "height": 312
        },
        "id": "PdwE1s0s0Eby",
        "outputId": "5252b27d-b421-42c8-ea4a-533742814772"
      },
      "source": [
        "# Q-6) Plot the total profit of each month and show it using the histogram to see the most common profit ranges\n",
        "labels = ['low', 'average', 'Good', 'Best']\n",
        "profit_range = [150000, 175000, 200000, 225000, 250000, 300000, 350000]\n",
        "plt.hist(profit, profit_range, label = 'Profit data')\n",
        "plt.xlabel('Profit Range')\n",
        "plt.ylabel('Actual Profit')\n",
        "plt.legend(loc='upper left')\n",
        "plt.xticks(profit_range)\n",
        "plt.title('Profit data')"
      ],
      "execution_count": null,
      "outputs": [
        {
          "output_type": "execute_result",
          "data": {
            "text/plain": [
              "Text(0.5, 1.0, 'Profit data')"
            ]
          },
          "metadata": {
            "tags": []
          },
          "execution_count": 49
        },
        {
          "output_type": "display_data",
          "data": {
            "image/png": "[encoded data removed]",
            "text/plain": [
              "<Figure size 432x288 with 1 Axes>"
            ]
          },
          "metadata": {
            "tags": [],
            "needs_background": "light"
          }
        }
      ]
    },
    {
      "cell_type": "code",
      "metadata": {
        "colab": {
          "base_uri": "https://localhost:8080/",
          "height": 317
        },
        "id": "tFEFQThF2HU2",
        "outputId": "8d4d74a8-a2b1-42a9-a947-c6df69d511e0"
      },
      "source": [
        "# Q-7) Plot a pie chart for total sales data.\n",
        "labels = ['FaceCream', 'FaceWash', 'ToothPaste', 'Bathing Soap', 'Shampoo', 'Moisturizer']\n",
        "salesData   = [df['facecream'].sum(), df['facewash'].sum(), df['toothpaste'].sum(), \n",
        "         df['bathingsoap'].sum(), df['shampoo'].sum(), df['moisturizer'].sum()]\n",
        "plt.axis(\"equal\")\n",
        "plt.pie(salesData, labels=labels, autopct='%1.1f%%', radius=1.5)\n",
        "plt.legend(loc='upper left')\n",
        "plt.title('Sales Data')"
      ],
      "execution_count": null,
      "outputs": [
        {
          "output_type": "execute_result",
          "data": {
            "text/plain": [
              "Text(0.5, 1.0, 'Sales Data')"
            ]
          },
          "metadata": {
            "tags": []
          },
          "execution_count": 50
        },
        {
          "output_type": "display_data",
          "data": {
            "image/png": "[encoded data removed]",
            "text/plain": [
              "<Figure size 432x288 with 1 Axes>"
            ]
          },
          "metadata": {
            "tags": []
          }
        }
      ]
    },
    {
      "cell_type": "code",
      "metadata": {
        "colab": {
          "base_uri": "https://localhost:8080/",
          "height": 312
        },
        "id": "T2n91hl74KkM",
        "outputId": "62b94210-db4d-4b85-ee9a-4e30c9dda6e7"
      },
      "source": [
        "# Q-8) Read all product sales data and show it using the stack plot.\n",
        "plt.plot([],[],color='c', label='Face Cream', linewidth=5)\n",
        "plt.plot([],[],color='y', label='Face wash', linewidth=5)\n",
        "plt.plot([],[],color='r', label='Tooth Paste', linewidth=5)\n",
        "plt.plot([],[],color='b', label='Bathing Soap', linewidth=5)\n",
        "plt.plot([],[],color='k', label='Shampoo', linewidth=5)\n",
        "plt.plot([],[],color='g', label='Moisturizer', linewidth=5)\n",
        "\n",
        "plt.stackplot(month, facecream, facewash, toothpaste, \n",
        "              bathingsoap, shampoo, moisturizer, \n",
        "              colors=['c','b','r','y','k','g'])\n",
        "\n",
        "plt.xlabel('Month Number')\n",
        "plt.ylabel('Sales units in Number')\n",
        "plt.title('All product sales data using stack plot')\n",
        "plt.legend(loc='upper left')"
      ],
      "execution_count": null,
      "outputs": [
        {
          "output_type": "execute_result",
          "data": {
            "text/plain": [
              "<matplotlib.legend.Legend at 0x7f061543b310>"
            ]
          },
          "metadata": {
            "tags": []
          },
          "execution_count": 51
        },
        {
          "output_type": "display_data",
          "data": {
            "image/png": "[encoded data removed]",
            "text/plain": [
              "<Figure size 432x288 with 1 Axes>"
            ]
          },
          "metadata": {
            "tags": [],
            "needs_background": "light"
          }
        }
      ]
    },
    {
      "cell_type": "markdown",
      "metadata": {
        "id": "Mz_htKJI3cP2"
      },
      "source": [
        "#**Define Evaluation Matrices & its types**\n",
        "\n",
        "---\n",
        "\n",
        "\n",
        "\n",
        "\n",
        "> \n",
        "\n"
      ]
    },
    {
      "cell_type": "markdown",
      "metadata": {
        "id": "HwrNwldgT4B7"
      },
      "source": [
        "### **Evaluation Matric:**\n",
        "\n",
        "> Evaluation metrics are used to measure the quality of the statistical or machine learning model. Evaluating machine learning models or algorithms is essential for any project. There are many different types of evaluation metrics available to test a model.These include:\n",
        "*   classification accuracy\n",
        "*   Logarithmic Loss\n",
        "*   Confusion Matrix\n",
        "and others.\n",
        "\n",
        "> Classification accuracy is the ratio of the number of correct predictions to the total number of input samples, which is usually what we refer to when we use the term accuracy. Logarithmic loss, also called log loss, works by penalizing the false classifications. A confusion matrix gives us a matrix as output and describes the complete performance of the model. There are other evaluation metrics that can be used that have not been listed. Evaluation metrics involves using a combination of these individual evaluation metrics to test a model or algorithm. \n",
        "\n",
        ">Some other matrics are:\n",
        "\n",
        "> - F1 Score\n",
        "- Gain and Lift Charts\n",
        "- Kolmogorov Smirnov Chart\n",
        "- AUC – ROC\n",
        "-Gini Coefficient\n",
        "-Concordant – Discordant Ratio\n",
        "-Root Mean Squared Error\n",
        "-Cross Validation (Not a metric though!)\n",
        "\n",
        "\n",
        "\n",
        "\n",
        "\n",
        "\n",
        "\n",
        "\n"
      ]
    },
    {
      "cell_type": "markdown",
      "metadata": {
        "id": "K2ctBjcUVbE4"
      },
      "source": [
        "### **Why it is useful:**\n",
        "\n",
        "> It is very important to use multiple evaluation metrics to evaluate your model. This is because a model may perform well using one measurement from one evaluation metric, but may perform poorly using another measurement from another evaluation metric. Using evaluation metrics are critical in ensuring that your model is operating correctly and optimally. \n",
        "\n"
      ]
    },
    {
      "cell_type": "code",
      "metadata": {
        "id": "Y-uLWpiO2qWw"
      },
      "source": [
        ""
      ],
      "execution_count": null,
      "outputs": []
    }
  ]
}